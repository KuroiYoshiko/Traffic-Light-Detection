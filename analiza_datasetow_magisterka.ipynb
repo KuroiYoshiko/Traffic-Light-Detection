{
  "nbformat": 4,
  "nbformat_minor": 0,
  "metadata": {
    "colab": {
      "provenance": [],
      "authorship_tag": "ABX9TyOOJdEDm3z0lne1lKOSFh2/",
      "include_colab_link": true
    },
    "kernelspec": {
      "name": "python3",
      "display_name": "Python 3"
    },
    "language_info": {
      "name": "python"
    }
  },
  "cells": [
    {
      "cell_type": "markdown",
      "metadata": {
        "id": "view-in-github",
        "colab_type": "text"
      },
      "source": [
        "<a href=\"https://colab.research.google.com/github/KuroiYoshiko/Traffic-Light-Detection/blob/main/analiza_datasetow_magisterka.ipynb\" target=\"_parent\"><img src=\"https://colab.research.google.com/assets/colab-badge.svg\" alt=\"Open In Colab\"/></a>"
      ]
    },
    {
      "cell_type": "code",
      "metadata": {
        "colab": {
          "base_uri": "https://localhost:8080/",
          "height": 73
        },
        "id": "rLjhHt62tepD",
        "outputId": "9c47145e-8c72-418a-a217-2939c2ff69e2"
      },
      "source": [
        "import pandas as pd\n",
        "import numpy as np\n",
        "import seaborn as sns\n",
        "\n",
        "from google.colab import files\n",
        "uploaded = files.upload()"
      ],
      "execution_count": null,
      "outputs": [
        {
          "output_type": "display_data",
          "data": {
            "text/plain": [
              "<IPython.core.display.HTML object>"
            ],
            "text/html": [
              "\n",
              "     <input type=\"file\" id=\"files-ab773a83-f767-445f-904a-e1ecab2fff7b\" name=\"files[]\" multiple disabled\n",
              "        style=\"border:none\" />\n",
              "     <output id=\"result-ab773a83-f767-445f-904a-e1ecab2fff7b\">\n",
              "      Upload widget is only available when the cell has been executed in the\n",
              "      current browser session. Please rerun this cell to enable.\n",
              "      </output>\n",
              "      <script>// Copyright 2017 Google LLC\n",
              "//\n",
              "// Licensed under the Apache License, Version 2.0 (the \"License\");\n",
              "// you may not use this file except in compliance with the License.\n",
              "// You may obtain a copy of the License at\n",
              "//\n",
              "//      http://www.apache.org/licenses/LICENSE-2.0\n",
              "//\n",
              "// Unless required by applicable law or agreed to in writing, software\n",
              "// distributed under the License is distributed on an \"AS IS\" BASIS,\n",
              "// WITHOUT WARRANTIES OR CONDITIONS OF ANY KIND, either express or implied.\n",
              "// See the License for the specific language governing permissions and\n",
              "// limitations under the License.\n",
              "\n",
              "/**\n",
              " * @fileoverview Helpers for google.colab Python module.\n",
              " */\n",
              "(function(scope) {\n",
              "function span(text, styleAttributes = {}) {\n",
              "  const element = document.createElement('span');\n",
              "  element.textContent = text;\n",
              "  for (const key of Object.keys(styleAttributes)) {\n",
              "    element.style[key] = styleAttributes[key];\n",
              "  }\n",
              "  return element;\n",
              "}\n",
              "\n",
              "// Max number of bytes which will be uploaded at a time.\n",
              "const MAX_PAYLOAD_SIZE = 100 * 1024;\n",
              "\n",
              "function _uploadFiles(inputId, outputId) {\n",
              "  const steps = uploadFilesStep(inputId, outputId);\n",
              "  const outputElement = document.getElementById(outputId);\n",
              "  // Cache steps on the outputElement to make it available for the next call\n",
              "  // to uploadFilesContinue from Python.\n",
              "  outputElement.steps = steps;\n",
              "\n",
              "  return _uploadFilesContinue(outputId);\n",
              "}\n",
              "\n",
              "// This is roughly an async generator (not supported in the browser yet),\n",
              "// where there are multiple asynchronous steps and the Python side is going\n",
              "// to poll for completion of each step.\n",
              "// This uses a Promise to block the python side on completion of each step,\n",
              "// then passes the result of the previous step as the input to the next step.\n",
              "function _uploadFilesContinue(outputId) {\n",
              "  const outputElement = document.getElementById(outputId);\n",
              "  const steps = outputElement.steps;\n",
              "\n",
              "  const next = steps.next(outputElement.lastPromiseValue);\n",
              "  return Promise.resolve(next.value.promise).then((value) => {\n",
              "    // Cache the last promise value to make it available to the next\n",
              "    // step of the generator.\n",
              "    outputElement.lastPromiseValue = value;\n",
              "    return next.value.response;\n",
              "  });\n",
              "}\n",
              "\n",
              "/**\n",
              " * Generator function which is called between each async step of the upload\n",
              " * process.\n",
              " * @param {string} inputId Element ID of the input file picker element.\n",
              " * @param {string} outputId Element ID of the output display.\n",
              " * @return {!Iterable<!Object>} Iterable of next steps.\n",
              " */\n",
              "function* uploadFilesStep(inputId, outputId) {\n",
              "  const inputElement = document.getElementById(inputId);\n",
              "  inputElement.disabled = false;\n",
              "\n",
              "  const outputElement = document.getElementById(outputId);\n",
              "  outputElement.innerHTML = '';\n",
              "\n",
              "  const pickedPromise = new Promise((resolve) => {\n",
              "    inputElement.addEventListener('change', (e) => {\n",
              "      resolve(e.target.files);\n",
              "    });\n",
              "  });\n",
              "\n",
              "  const cancel = document.createElement('button');\n",
              "  inputElement.parentElement.appendChild(cancel);\n",
              "  cancel.textContent = 'Cancel upload';\n",
              "  const cancelPromise = new Promise((resolve) => {\n",
              "    cancel.onclick = () => {\n",
              "      resolve(null);\n",
              "    };\n",
              "  });\n",
              "\n",
              "  // Wait for the user to pick the files.\n",
              "  const files = yield {\n",
              "    promise: Promise.race([pickedPromise, cancelPromise]),\n",
              "    response: {\n",
              "      action: 'starting',\n",
              "    }\n",
              "  };\n",
              "\n",
              "  cancel.remove();\n",
              "\n",
              "  // Disable the input element since further picks are not allowed.\n",
              "  inputElement.disabled = true;\n",
              "\n",
              "  if (!files) {\n",
              "    return {\n",
              "      response: {\n",
              "        action: 'complete',\n",
              "      }\n",
              "    };\n",
              "  }\n",
              "\n",
              "  for (const file of files) {\n",
              "    const li = document.createElement('li');\n",
              "    li.append(span(file.name, {fontWeight: 'bold'}));\n",
              "    li.append(span(\n",
              "        `(${file.type || 'n/a'}) - ${file.size} bytes, ` +\n",
              "        `last modified: ${\n",
              "            file.lastModifiedDate ? file.lastModifiedDate.toLocaleDateString() :\n",
              "                                    'n/a'} - `));\n",
              "    const percent = span('0% done');\n",
              "    li.appendChild(percent);\n",
              "\n",
              "    outputElement.appendChild(li);\n",
              "\n",
              "    const fileDataPromise = new Promise((resolve) => {\n",
              "      const reader = new FileReader();\n",
              "      reader.onload = (e) => {\n",
              "        resolve(e.target.result);\n",
              "      };\n",
              "      reader.readAsArrayBuffer(file);\n",
              "    });\n",
              "    // Wait for the data to be ready.\n",
              "    let fileData = yield {\n",
              "      promise: fileDataPromise,\n",
              "      response: {\n",
              "        action: 'continue',\n",
              "      }\n",
              "    };\n",
              "\n",
              "    // Use a chunked sending to avoid message size limits. See b/62115660.\n",
              "    let position = 0;\n",
              "    do {\n",
              "      const length = Math.min(fileData.byteLength - position, MAX_PAYLOAD_SIZE);\n",
              "      const chunk = new Uint8Array(fileData, position, length);\n",
              "      position += length;\n",
              "\n",
              "      const base64 = btoa(String.fromCharCode.apply(null, chunk));\n",
              "      yield {\n",
              "        response: {\n",
              "          action: 'append',\n",
              "          file: file.name,\n",
              "          data: base64,\n",
              "        },\n",
              "      };\n",
              "\n",
              "      let percentDone = fileData.byteLength === 0 ?\n",
              "          100 :\n",
              "          Math.round((position / fileData.byteLength) * 100);\n",
              "      percent.textContent = `${percentDone}% done`;\n",
              "\n",
              "    } while (position < fileData.byteLength);\n",
              "  }\n",
              "\n",
              "  // All done.\n",
              "  yield {\n",
              "    response: {\n",
              "      action: 'complete',\n",
              "    }\n",
              "  };\n",
              "}\n",
              "\n",
              "scope.google = scope.google || {};\n",
              "scope.google.colab = scope.google.colab || {};\n",
              "scope.google.colab._files = {\n",
              "  _uploadFiles,\n",
              "  _uploadFilesContinue,\n",
              "};\n",
              "})(self);\n",
              "</script> "
            ]
          },
          "metadata": {}
        },
        {
          "output_type": "stream",
          "name": "stdout",
          "text": [
            "Saving training-annotations-day.csv to training-annotations-day.csv\n"
          ]
        }
      ]
    },
    {
      "cell_type": "markdown",
      "source": [
        "# dtld"
      ],
      "metadata": {
        "id": "wQI5qPKKFaJG"
      }
    },
    {
      "cell_type": "code",
      "source": [
        "import re\n",
        "\n",
        "file_path = \"/content/DTLD_test.json\"\n",
        "\n",
        "with open(file_path, \"r\") as file:\n",
        "    content = file.read()\n",
        "\n",
        "state = len(re.findall(r'\"state\":', content))\n",
        "green = len(re.findall(r'\"state\": \"green\"', content))\n",
        "off = len(re.findall(r'\"state\": \"off\"', content))\n",
        "red = len(re.findall(r'\"state\": \"red\"', content))\n",
        "yellow = len(re.findall(r'\"state\": \"yellow\"', content))\n",
        "red_yellow = len(re.findall(r'\"state\": \"red_yellow\"', content))\n",
        "unknown = len(re.findall(r'\"state\": \"unknown\"', content))\n",
        "\n",
        "print(\"state: \", state)\n",
        "print(\"green: \", green)\n",
        "print(\"off: \", off)\n",
        "print(\"red: \", red)\n",
        "print(\"yellow: \", yellow)\n",
        "print(\"red_yellow: \", red_yellow)\n",
        "print(\"unknown: \", unknown)\n",
        "\n",
        "suma = green+off+red+yellow+red_yellow+unknown\n",
        "\n",
        "print(\"do porownania, lacznie: \", suma)\n",
        "print(\"czyli odejmujac: \", (state-suma))\n"
      ],
      "metadata": {
        "id": "nQseg7K3cid2"
      },
      "execution_count": null,
      "outputs": []
    },
    {
      "cell_type": "markdown",
      "metadata": {
        "id": "o190lsnVQ6cE"
      },
      "source": [
        "# **Analiza**"
      ]
    },
    {
      "cell_type": "code",
      "metadata": {
        "colab": {
          "base_uri": "https://localhost:8080/",
          "height": 206
        },
        "id": "kpSecp7duKBX",
        "outputId": "60da0f24-7996-4449-8e6c-855f716f45cf"
      },
      "source": [
        "dataset = pd.read_csv(\"training-annotations-day.csv\", index_col=False)\n",
        "dataset.head()"
      ],
      "execution_count": null,
      "outputs": [
        {
          "output_type": "execute_result",
          "data": {
            "text/plain": [
              "              Filename  Width  Height Class  Upper left corner X  \\\n",
              "0  dayClip1--00000.jpg   1280     960    go                  698   \n",
              "1  dayClip1--00000.jpg   1280     960    go                  846   \n",
              "2  dayClip1--00001.jpg   1280     960    go                  698   \n",
              "3  dayClip1--00001.jpg   1280     960    go                  847   \n",
              "4  dayClip1--00002.jpg   1280     960    go                  698   \n",
              "\n",
              "   Upper left corner Y  Lower right corner X  Lower right corner Y  \n",
              "0                  333                   710                   358  \n",
              "1                  391                   858                   411  \n",
              "2                  337                   710                   357  \n",
              "3                  390                   859                   410  \n",
              "4                  331                   710                   356  "
            ],
            "text/html": [
              "\n",
              "  <div id=\"df-554fbe7a-cc16-41dc-9206-9543e3501b32\">\n",
              "    <div class=\"colab-df-container\">\n",
              "      <div>\n",
              "<style scoped>\n",
              "    .dataframe tbody tr th:only-of-type {\n",
              "        vertical-align: middle;\n",
              "    }\n",
              "\n",
              "    .dataframe tbody tr th {\n",
              "        vertical-align: top;\n",
              "    }\n",
              "\n",
              "    .dataframe thead th {\n",
              "        text-align: right;\n",
              "    }\n",
              "</style>\n",
              "<table border=\"1\" class=\"dataframe\">\n",
              "  <thead>\n",
              "    <tr style=\"text-align: right;\">\n",
              "      <th></th>\n",
              "      <th>Filename</th>\n",
              "      <th>Width</th>\n",
              "      <th>Height</th>\n",
              "      <th>Class</th>\n",
              "      <th>Upper left corner X</th>\n",
              "      <th>Upper left corner Y</th>\n",
              "      <th>Lower right corner X</th>\n",
              "      <th>Lower right corner Y</th>\n",
              "    </tr>\n",
              "  </thead>\n",
              "  <tbody>\n",
              "    <tr>\n",
              "      <th>0</th>\n",
              "      <td>dayClip1--00000.jpg</td>\n",
              "      <td>1280</td>\n",
              "      <td>960</td>\n",
              "      <td>go</td>\n",
              "      <td>698</td>\n",
              "      <td>333</td>\n",
              "      <td>710</td>\n",
              "      <td>358</td>\n",
              "    </tr>\n",
              "    <tr>\n",
              "      <th>1</th>\n",
              "      <td>dayClip1--00000.jpg</td>\n",
              "      <td>1280</td>\n",
              "      <td>960</td>\n",
              "      <td>go</td>\n",
              "      <td>846</td>\n",
              "      <td>391</td>\n",
              "      <td>858</td>\n",
              "      <td>411</td>\n",
              "    </tr>\n",
              "    <tr>\n",
              "      <th>2</th>\n",
              "      <td>dayClip1--00001.jpg</td>\n",
              "      <td>1280</td>\n",
              "      <td>960</td>\n",
              "      <td>go</td>\n",
              "      <td>698</td>\n",
              "      <td>337</td>\n",
              "      <td>710</td>\n",
              "      <td>357</td>\n",
              "    </tr>\n",
              "    <tr>\n",
              "      <th>3</th>\n",
              "      <td>dayClip1--00001.jpg</td>\n",
              "      <td>1280</td>\n",
              "      <td>960</td>\n",
              "      <td>go</td>\n",
              "      <td>847</td>\n",
              "      <td>390</td>\n",
              "      <td>859</td>\n",
              "      <td>410</td>\n",
              "    </tr>\n",
              "    <tr>\n",
              "      <th>4</th>\n",
              "      <td>dayClip1--00002.jpg</td>\n",
              "      <td>1280</td>\n",
              "      <td>960</td>\n",
              "      <td>go</td>\n",
              "      <td>698</td>\n",
              "      <td>331</td>\n",
              "      <td>710</td>\n",
              "      <td>356</td>\n",
              "    </tr>\n",
              "  </tbody>\n",
              "</table>\n",
              "</div>\n",
              "      <button class=\"colab-df-convert\" onclick=\"convertToInteractive('df-554fbe7a-cc16-41dc-9206-9543e3501b32')\"\n",
              "              title=\"Convert this dataframe to an interactive table.\"\n",
              "              style=\"display:none;\">\n",
              "        \n",
              "  <svg xmlns=\"http://www.w3.org/2000/svg\" height=\"24px\"viewBox=\"0 0 24 24\"\n",
              "       width=\"24px\">\n",
              "    <path d=\"M0 0h24v24H0V0z\" fill=\"none\"/>\n",
              "    <path d=\"M18.56 5.44l.94 2.06.94-2.06 2.06-.94-2.06-.94-.94-2.06-.94 2.06-2.06.94zm-11 1L8.5 8.5l.94-2.06 2.06-.94-2.06-.94L8.5 2.5l-.94 2.06-2.06.94zm10 10l.94 2.06.94-2.06 2.06-.94-2.06-.94-.94-2.06-.94 2.06-2.06.94z\"/><path d=\"M17.41 7.96l-1.37-1.37c-.4-.4-.92-.59-1.43-.59-.52 0-1.04.2-1.43.59L10.3 9.45l-7.72 7.72c-.78.78-.78 2.05 0 2.83L4 21.41c.39.39.9.59 1.41.59.51 0 1.02-.2 1.41-.59l7.78-7.78 2.81-2.81c.8-.78.8-2.07 0-2.86zM5.41 20L4 18.59l7.72-7.72 1.47 1.35L5.41 20z\"/>\n",
              "  </svg>\n",
              "      </button>\n",
              "      \n",
              "  <style>\n",
              "    .colab-df-container {\n",
              "      display:flex;\n",
              "      flex-wrap:wrap;\n",
              "      gap: 12px;\n",
              "    }\n",
              "\n",
              "    .colab-df-convert {\n",
              "      background-color: #E8F0FE;\n",
              "      border: none;\n",
              "      border-radius: 50%;\n",
              "      cursor: pointer;\n",
              "      display: none;\n",
              "      fill: #1967D2;\n",
              "      height: 32px;\n",
              "      padding: 0 0 0 0;\n",
              "      width: 32px;\n",
              "    }\n",
              "\n",
              "    .colab-df-convert:hover {\n",
              "      background-color: #E2EBFA;\n",
              "      box-shadow: 0px 1px 2px rgba(60, 64, 67, 0.3), 0px 1px 3px 1px rgba(60, 64, 67, 0.15);\n",
              "      fill: #174EA6;\n",
              "    }\n",
              "\n",
              "    [theme=dark] .colab-df-convert {\n",
              "      background-color: #3B4455;\n",
              "      fill: #D2E3FC;\n",
              "    }\n",
              "\n",
              "    [theme=dark] .colab-df-convert:hover {\n",
              "      background-color: #434B5C;\n",
              "      box-shadow: 0px 1px 3px 1px rgba(0, 0, 0, 0.15);\n",
              "      filter: drop-shadow(0px 1px 2px rgba(0, 0, 0, 0.3));\n",
              "      fill: #FFFFFF;\n",
              "    }\n",
              "  </style>\n",
              "\n",
              "      <script>\n",
              "        const buttonEl =\n",
              "          document.querySelector('#df-554fbe7a-cc16-41dc-9206-9543e3501b32 button.colab-df-convert');\n",
              "        buttonEl.style.display =\n",
              "          google.colab.kernel.accessAllowed ? 'block' : 'none';\n",
              "\n",
              "        async function convertToInteractive(key) {\n",
              "          const element = document.querySelector('#df-554fbe7a-cc16-41dc-9206-9543e3501b32');\n",
              "          const dataTable =\n",
              "            await google.colab.kernel.invokeFunction('convertToInteractive',\n",
              "                                                     [key], {});\n",
              "          if (!dataTable) return;\n",
              "\n",
              "          const docLinkHtml = 'Like what you see? Visit the ' +\n",
              "            '<a target=\"_blank\" href=https://colab.research.google.com/notebooks/data_table.ipynb>data table notebook</a>'\n",
              "            + ' to learn more about interactive tables.';\n",
              "          element.innerHTML = '';\n",
              "          dataTable['output_type'] = 'display_data';\n",
              "          await google.colab.output.renderOutput(dataTable, element);\n",
              "          const docLink = document.createElement('div');\n",
              "          docLink.innerHTML = docLinkHtml;\n",
              "          element.appendChild(docLink);\n",
              "        }\n",
              "      </script>\n",
              "    </div>\n",
              "  </div>\n",
              "  "
            ]
          },
          "metadata": {},
          "execution_count": 92
        }
      ]
    },
    {
      "cell_type": "code",
      "metadata": {
        "id": "DKu3AawXQ9zG",
        "colab": {
          "base_uri": "https://localhost:8080/",
          "height": 504
        },
        "outputId": "dbaabdbd-d015-46c3-aa6c-aaf31951cdae"
      },
      "source": [
        "from numpy.core.fromnumeric import sort\n",
        "sort_order = ['go', 'stop', 'warning', 'stopLeft', 'goLeft', 'goForward', 'warningLeft']\n",
        "#sort_order = ['stop', 'go', 'ambiguous', 'warning']\n",
        "\n",
        "g = sns.catplot(x='Class',kind='count',data=dataset, order=sort_order)\n",
        "#g = sns.catplot(x='Klasa',kind='count',data=lisa_valDayAnnotations)\n",
        "\n",
        "g.set_xlabels(label=\"Klasa\")\n",
        "g.set_ylabels(label=\"Liczba wystąpień\")\n",
        "sns.set(font_scale=1)\n",
        "\n",
        "g.fig.set_size_inches(9,5)\n",
        "for p in g.ax.patches:\n",
        "    g.ax.annotate(format(p.get_height(), '.0f'), (p.get_x() + p.get_width() / 2., p.get_height()),\n",
        "                  ha = 'center', va = 'center', xytext = (0, 10), textcoords = 'offset points')"
      ],
      "execution_count": null,
      "outputs": [
        {
          "output_type": "display_data",
          "data": {
            "text/plain": [
              "<Figure size 900x500 with 1 Axes>"
            ],
            "image/png": "[encoded data removed]"
          },
          "metadata": {}
        }
      ]
    },
    {
      "cell_type": "markdown",
      "source": [
        "# **Bosch**"
      ],
      "metadata": {
        "id": "Qac_JiOl2NQD"
      }
    },
    {
      "cell_type": "code",
      "source": [
        "# czyszczenie danych bosch\n",
        "dataset_filtered = dataset[dataset['Klasa'].str.contains(\"- {label: \")].dropna()\n",
        "dataset_filtered['Klasa'] = dataset_filtered['Klasa'].str.replace(r'- {label: (\\w+)', r'\\1')\n",
        "dataset_filtered['Klasa'] = dataset_filtered['Klasa'].str.replace(r'- {label: \\'(\\w+)\\'', r'\\1')\n",
        "dataset_filtered.head()\n",
        "dataset_filtered.value_counts()"
      ],
      "metadata": {
        "id": "dvdYgUCp0fzU",
        "colab": {
          "base_uri": "https://localhost:8080/"
        },
        "outputId": "2cff81f7-839a-42b6-b40a-8eaf6cdfa789"
      },
      "execution_count": null,
      "outputs": [
        {
          "output_type": "stream",
          "name": "stderr",
          "text": [
            "<ipython-input-68-6ee68441fe80>:3: FutureWarning: The default value of regex will change from True to False in a future version.\n",
            "  dataset_filtered['Klasa'] = dataset_filtered['Klasa'].str.replace(r'- {label: (\\w+)', r'\\1')\n",
            "<ipython-input-68-6ee68441fe80>:4: FutureWarning: The default value of regex will change from True to False in a future version.\n",
            "  dataset_filtered['Klasa'] = dataset_filtered['Klasa'].str.replace(r'- {label: \\'(\\w+)\\'', r'\\1')\n"
          ]
        },
        {
          "output_type": "execute_result",
          "data": {
            "text/plain": [
              "Klasa   \n",
              "  Green     7569\n",
              "  Red       5321\n",
              "  off        442\n",
              "  Yellow     154\n",
              "dtype: int64"
            ]
          },
          "metadata": {},
          "execution_count": 68
        }
      ]
    },
    {
      "cell_type": "code",
      "source": [
        "dataset_filtered = dataset[dataset['Klasa'].str.contains(\"- {label: \")].dropna()\n",
        "dataset_filtered['Klasa'] = dataset_filtered['Klasa'].str.extract(r'- {label: (\\w+),')\n",
        "dataset_filtered.head()\n",
        "#dataset_filtered.value_counts()"
      ],
      "metadata": {
        "colab": {
          "base_uri": "https://localhost:8080/",
          "height": 206
        },
        "id": "Nl0Qjij-5B2j",
        "outputId": "8638073d-41ff-47b9-934d-c42c3441c061"
      },
      "execution_count": null,
      "outputs": [
        {
          "output_type": "execute_result",
          "data": {
            "text/plain": [
              "   Klasa\n",
              "1    NaN\n",
              "4    NaN\n",
              "8    NaN\n",
              "12   NaN\n",
              "16   NaN"
            ],
            "text/html": [
              "\n",
              "  <div id=\"df-fcae1572-c868-4880-8881-9287cd91d27d\">\n",
              "    <div class=\"colab-df-container\">\n",
              "      <div>\n",
              "<style scoped>\n",
              "    .dataframe tbody tr th:only-of-type {\n",
              "        vertical-align: middle;\n",
              "    }\n",
              "\n",
              "    .dataframe tbody tr th {\n",
              "        vertical-align: top;\n",
              "    }\n",
              "\n",
              "    .dataframe thead th {\n",
              "        text-align: right;\n",
              "    }\n",
              "</style>\n",
              "<table border=\"1\" class=\"dataframe\">\n",
              "  <thead>\n",
              "    <tr style=\"text-align: right;\">\n",
              "      <th></th>\n",
              "      <th>Klasa</th>\n",
              "    </tr>\n",
              "  </thead>\n",
              "  <tbody>\n",
              "    <tr>\n",
              "      <th>1</th>\n",
              "      <td>NaN</td>\n",
              "    </tr>\n",
              "    <tr>\n",
              "      <th>4</th>\n",
              "      <td>NaN</td>\n",
              "    </tr>\n",
              "    <tr>\n",
              "      <th>8</th>\n",
              "      <td>NaN</td>\n",
              "    </tr>\n",
              "    <tr>\n",
              "      <th>12</th>\n",
              "      <td>NaN</td>\n",
              "    </tr>\n",
              "    <tr>\n",
              "      <th>16</th>\n",
              "      <td>NaN</td>\n",
              "    </tr>\n",
              "  </tbody>\n",
              "</table>\n",
              "</div>\n",
              "      <button class=\"colab-df-convert\" onclick=\"convertToInteractive('df-fcae1572-c868-4880-8881-9287cd91d27d')\"\n",
              "              title=\"Convert this dataframe to an interactive table.\"\n",
              "              style=\"display:none;\">\n",
              "        \n",
              "  <svg xmlns=\"http://www.w3.org/2000/svg\" height=\"24px\"viewBox=\"0 0 24 24\"\n",
              "       width=\"24px\">\n",
              "    <path d=\"M0 0h24v24H0V0z\" fill=\"none\"/>\n",
              "    <path d=\"M18.56 5.44l.94 2.06.94-2.06 2.06-.94-2.06-.94-.94-2.06-.94 2.06-2.06.94zm-11 1L8.5 8.5l.94-2.06 2.06-.94-2.06-.94L8.5 2.5l-.94 2.06-2.06.94zm10 10l.94 2.06.94-2.06 2.06-.94-2.06-.94-.94-2.06-.94 2.06-2.06.94z\"/><path d=\"M17.41 7.96l-1.37-1.37c-.4-.4-.92-.59-1.43-.59-.52 0-1.04.2-1.43.59L10.3 9.45l-7.72 7.72c-.78.78-.78 2.05 0 2.83L4 21.41c.39.39.9.59 1.41.59.51 0 1.02-.2 1.41-.59l7.78-7.78 2.81-2.81c.8-.78.8-2.07 0-2.86zM5.41 20L4 18.59l7.72-7.72 1.47 1.35L5.41 20z\"/>\n",
              "  </svg>\n",
              "      </button>\n",
              "      \n",
              "  <style>\n",
              "    .colab-df-container {\n",
              "      display:flex;\n",
              "      flex-wrap:wrap;\n",
              "      gap: 12px;\n",
              "    }\n",
              "\n",
              "    .colab-df-convert {\n",
              "      background-color: #E8F0FE;\n",
              "      border: none;\n",
              "      border-radius: 50%;\n",
              "      cursor: pointer;\n",
              "      display: none;\n",
              "      fill: #1967D2;\n",
              "      height: 32px;\n",
              "      padding: 0 0 0 0;\n",
              "      width: 32px;\n",
              "    }\n",
              "\n",
              "    .colab-df-convert:hover {\n",
              "      background-color: #E2EBFA;\n",
              "      box-shadow: 0px 1px 2px rgba(60, 64, 67, 0.3), 0px 1px 3px 1px rgba(60, 64, 67, 0.15);\n",
              "      fill: #174EA6;\n",
              "    }\n",
              "\n",
              "    [theme=dark] .colab-df-convert {\n",
              "      background-color: #3B4455;\n",
              "      fill: #D2E3FC;\n",
              "    }\n",
              "\n",
              "    [theme=dark] .colab-df-convert:hover {\n",
              "      background-color: #434B5C;\n",
              "      box-shadow: 0px 1px 3px 1px rgba(0, 0, 0, 0.15);\n",
              "      filter: drop-shadow(0px 1px 2px rgba(0, 0, 0, 0.3));\n",
              "      fill: #FFFFFF;\n",
              "    }\n",
              "  </style>\n",
              "\n",
              "      <script>\n",
              "        const buttonEl =\n",
              "          document.querySelector('#df-fcae1572-c868-4880-8881-9287cd91d27d button.colab-df-convert');\n",
              "        buttonEl.style.display =\n",
              "          google.colab.kernel.accessAllowed ? 'block' : 'none';\n",
              "\n",
              "        async function convertToInteractive(key) {\n",
              "          const element = document.querySelector('#df-fcae1572-c868-4880-8881-9287cd91d27d');\n",
              "          const dataTable =\n",
              "            await google.colab.kernel.invokeFunction('convertToInteractive',\n",
              "                                                     [key], {});\n",
              "          if (!dataTable) return;\n",
              "\n",
              "          const docLinkHtml = 'Like what you see? Visit the ' +\n",
              "            '<a target=\"_blank\" href=https://colab.research.google.com/notebooks/data_table.ipynb>data table notebook</a>'\n",
              "            + ' to learn more about interactive tables.';\n",
              "          element.innerHTML = '';\n",
              "          dataTable['output_type'] = 'display_data';\n",
              "          await google.colab.output.renderOutput(dataTable, element);\n",
              "          const docLink = document.createElement('div');\n",
              "          docLink.innerHTML = docLinkHtml;\n",
              "          element.appendChild(docLink);\n",
              "        }\n",
              "      </script>\n",
              "    </div>\n",
              "  </div>\n",
              "  "
            ]
          },
          "metadata": {},
          "execution_count": 67
        }
      ]
    },
    {
      "cell_type": "code",
      "source": [
        "from numpy.core.fromnumeric import sort\n",
        "\n",
        "g = sns.catplot(x='Klasa',kind='count',data=dataset_filtered)\n",
        "\n",
        "g.set_xlabels(label=\"Klasa\")\n",
        "g.set_ylabels(label=\"Liczba wystąpień\")\n",
        "sns.set(font_scale=1)\n",
        "#g.set_xticklabels(rotation=45)\n",
        "\n",
        "#g.fig.set_size_inches(12,5)\n",
        "g.fig.set_size_inches(9,5)\n",
        "for p in g.ax.patches:\n",
        "    g.ax.annotate(format(p.get_height(), '.0f'), (p.get_x() + p.get_width() / 2., p.get_height()),\n",
        "                  ha = 'center', va = 'center', xytext = (0, 10), textcoords = 'offset points')"
      ],
      "metadata": {
        "colab": {
          "base_uri": "https://localhost:8080/",
          "height": 504
        },
        "id": "DJpIvIXJ1o1M",
        "outputId": "58028c3d-e82b-4fdc-decd-b5c65ed048a2"
      },
      "execution_count": null,
      "outputs": [
        {
          "output_type": "display_data",
          "data": {
            "text/plain": [
              "<Figure size 900x500 with 1 Axes>"
            ],
            "image/png": "[encoded data removed]"
          },
          "metadata": {}
        }
      ]
    },
    {
      "cell_type": "code",
      "source": [
        "dataset_filtered.value_counts()"
      ],
      "metadata": {
        "id": "ZVR5KzHR-Fq9",
        "outputId": "d52aeced-4603-4edd-c326-d1357e453332",
        "colab": {
          "base_uri": "https://localhost:8080/"
        }
      },
      "execution_count": null,
      "outputs": [
        {
          "output_type": "execute_result",
          "data": {
            "text/plain": [
              "Klasa             \n",
              "Green                 5207\n",
              "Red                   3057\n",
              "RedLeft               1092\n",
              "Yellow                 444\n",
              "GreenLeft              178\n",
              "GreenStraight           20\n",
              "GreenRight              13\n",
              "RedStraight              9\n",
              "RedRight                 5\n",
              "GreenStraightRight       3\n",
              "GreenStraightLeft        1\n",
              "RedStraightLeft          1\n",
              "dtype: int64"
            ]
          },
          "metadata": {},
          "execution_count": 61
        }
      ]
    },
    {
      "cell_type": "code",
      "source": [
        "import pandas as pd\n",
        "\n",
        "# Wypełnienie DataFrame\n",
        "w1 = 'green'\n",
        "w2 = 'off'\n",
        "w3 = 'red'\n",
        "w4 = 'yellow'\n",
        "w5 = 'red_yellow'\n",
        "w6 = 'unknown'\n",
        "\n",
        "w1_il = green\n",
        "w2_il = off\n",
        "w3_il = red\n",
        "w4_il = yellow\n",
        "w5_il = red_yellow\n",
        "w6_il = unknown\n",
        "\n",
        "df_w1 = pd.DataFrame(columns=['Klasa'])\n",
        "df_w2 = pd.DataFrame(columns=['Klasa'])\n",
        "df_w3 = pd.DataFrame(columns=['Klasa'])\n",
        "df_w4 = pd.DataFrame(columns=['Klasa'])\n",
        "df_w5 = pd.DataFrame(columns=['Klasa'])\n",
        "df_w6 = pd.DataFrame(columns=['Klasa'])\n",
        "\n",
        "df_w1['Klasa'] = [w1] * w1_il\n",
        "df_w2['Klasa'] = [w2] * w2_il\n",
        "df_w3['Klasa'] = [w3] * w3_il\n",
        "df_w4['Klasa'] = [w4] * w4_il\n",
        "df_w5['Klasa'] = [w5] * w5_il\n",
        "df_w6['Klasa'] = [w6] * w6_il\n",
        "\n",
        "df_w1 = df_w1.append(df_w2, ignore_index=True)\n",
        "df_w1 = df_w1.append(df_w3, ignore_index=True)\n",
        "df_w1 = df_w1.append(df_w4, ignore_index=True)\n",
        "df_w1 = df_w1.append(df_w5, ignore_index=True)\n",
        "df_w1 = df_w1.append(df_w6, ignore_index=True)\n",
        "\n",
        "\n",
        "# Wyświetlenie DataFrame\n",
        "print(df_w1)"
      ],
      "metadata": {
        "colab": {
          "base_uri": "https://localhost:8080/"
        },
        "id": "IJbjX8IZL_SY",
        "outputId": "16282509-011a-43c9-fdcc-02b696ef8fd9"
      },
      "execution_count": null,
      "outputs": [
        {
          "output_type": "stream",
          "name": "stdout",
          "text": [
            "         Klasa\n",
            "0        green\n",
            "1        green\n",
            "2        green\n",
            "3        green\n",
            "4        green\n",
            "...        ...\n",
            "91977  unknown\n",
            "91978  unknown\n",
            "91979  unknown\n",
            "91980  unknown\n",
            "91981  unknown\n",
            "\n",
            "[91982 rows x 1 columns]\n"
          ]
        },
        {
          "output_type": "stream",
          "name": "stderr",
          "text": [
            "<ipython-input-56-5a38bdc76268>:32: FutureWarning: The frame.append method is deprecated and will be removed from pandas in a future version. Use pandas.concat instead.\n",
            "  df_w1 = df_w1.append(df_w2, ignore_index=True)\n",
            "<ipython-input-56-5a38bdc76268>:33: FutureWarning: The frame.append method is deprecated and will be removed from pandas in a future version. Use pandas.concat instead.\n",
            "  df_w1 = df_w1.append(df_w3, ignore_index=True)\n",
            "<ipython-input-56-5a38bdc76268>:34: FutureWarning: The frame.append method is deprecated and will be removed from pandas in a future version. Use pandas.concat instead.\n",
            "  df_w1 = df_w1.append(df_w4, ignore_index=True)\n",
            "<ipython-input-56-5a38bdc76268>:35: FutureWarning: The frame.append method is deprecated and will be removed from pandas in a future version. Use pandas.concat instead.\n",
            "  df_w1 = df_w1.append(df_w5, ignore_index=True)\n",
            "<ipython-input-56-5a38bdc76268>:36: FutureWarning: The frame.append method is deprecated and will be removed from pandas in a future version. Use pandas.concat instead.\n",
            "  df_w1 = df_w1.append(df_w6, ignore_index=True)\n"
          ]
        }
      ]
    },
    {
      "cell_type": "code",
      "source": [
        "from numpy.core.fromnumeric import sort\n",
        "sort_order = ['off', 'red', 'yellow', 'red_yellow', 'green', 'unknown']\n",
        "\n",
        "g = sns.catplot(x='Klasa',kind='count',data=df_w1, order=sort_order)\n",
        "\n",
        "g.set_xlabels(label=\"Klasa\")\n",
        "g.set_ylabels(label=\"Liczba wystąpień\")\n",
        "sns.set(font_scale=1)\n",
        "\n",
        "g.fig.set_size_inches(9,5)\n",
        "for p in g.ax.patches:\n",
        "    g.ax.annotate(format(p.get_height(), '.0f'), (p.get_x() + p.get_width() / 2., p.get_height()),\n",
        "                  ha = 'center', va = 'center', xytext = (0, 10), textcoords = 'offset points')"
      ],
      "metadata": {
        "colab": {
          "base_uri": "https://localhost:8080/",
          "height": 504
        },
        "id": "cPKM0CqZU3W1",
        "outputId": "3a3c26b0-78cb-4b0a-cba8-0108ebac2cce"
      },
      "execution_count": null,
      "outputs": [
        {
          "output_type": "display_data",
          "data": {
            "text/plain": [
              "<Figure size 900x500 with 1 Axes>"
            ],
            "image/png": "[encoded data removed]"
          },
          "metadata": {}
        }
      ]
    },
    {
      "cell_type": "code",
      "source": [
        "import cv2\n",
        "from matplotlib import pyplot as plt\n",
        "\n",
        "\n",
        "# Wczytaj obraz TIFF\n",
        "tiff_image = cv2.imread('/content/DE_BBBR667_2015-04-17_10-52-04-636522_k0.tiff', cv2.IMREAD_COLOR)\n",
        "\n",
        "# Wyświetl obraz\n",
        "plt.imshow(tiff_image)\n",
        "plt.axis('off')  # Wyłącz osie\n",
        "plt.show()\n"
      ],
      "metadata": {
        "id": "gj7AH7XFpb-z"
      },
      "execution_count": null,
      "outputs": []
    },
    {
      "cell_type": "code",
      "source": [
        "from PIL import Image\n",
        "from PIL import ImageEnhance\n",
        "obraz_tiff = Image.open(image_path)\n",
        "obraz_rgb = obraz_tiff.convert('RGB')\n",
        "\n",
        "# Stwórz obiekt do regulacji jasności\n",
        "enhancer = ImageEnhance.Brightness(obraz_rgb)\n",
        "\n",
        "# Zmień jasność obrazu (0.5 to wartość przykładowa, można dostosować)\n",
        "obraz_rgb_jasniejszy = enhancer.enhance(0.5)\n",
        "\n",
        "obraz_rgb_jasniejszy.show()"
      ],
      "metadata": {
        "id": "hd_5C8U8rmUL"
      },
      "execution_count": null,
      "outputs": []
    }
  ]
}